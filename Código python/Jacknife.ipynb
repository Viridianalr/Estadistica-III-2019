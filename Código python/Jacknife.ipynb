{
 "cells": [
  {
   "cell_type": "code",
   "execution_count": 78,
   "metadata": {},
   "outputs": [],
   "source": [
    "from __future__ import division\n",
    "import numpy as np\n",
    "import math as m\n",
    "import matplotlib.pyplot as plt\n",
    "%matplotlib inline"
   ]
  },
  {
   "cell_type": "code",
   "execution_count": 40,
   "metadata": {},
   "outputs": [],
   "source": [
    "X = [-2.5,4.8,-0.1,5.2,3.8]"
   ]
  },
  {
   "cell_type": "code",
   "execution_count": 47,
   "metadata": {},
   "outputs": [
    {
     "data": {
      "text/plain": [
       "[-2.5, 4.8, -0.1, 5.2]"
      ]
     },
     "execution_count": 47,
     "metadata": {},
     "output_type": "execute_result"
    }
   ],
   "source": [
    "j = 4\n",
    "X[:j] + X[j+1:]"
   ]
  },
  {
   "cell_type": "code",
   "execution_count": 41,
   "metadata": {},
   "outputs": [],
   "source": [
    "T = lambda x:np.mean(x)**2"
   ]
  },
  {
   "cell_type": "code",
   "execution_count": 42,
   "metadata": {},
   "outputs": [
    {
     "data": {
      "text/plain": [
       "5.017599999999999"
      ]
     },
     "execution_count": 42,
     "metadata": {},
     "output_type": "execute_result"
    }
   ],
   "source": [
    "T(X)"
   ]
  },
  {
   "cell_type": "code",
   "execution_count": 75,
   "metadata": {},
   "outputs": [],
   "source": [
    "def VarJack(X,T):\n",
    "    n = len(X)\n",
    "    Ti = []\n",
    "    for i in range(n):\n",
    "        Ti.append(n*T(X) - (n-1)*T(X[:i] + X[i+1:]))\n",
    "    Tjack = np.mean(Ti)\n",
    "    Vjack = np.var(Ti)*n/(n-1)\n",
    "    print(\"Tjack = {}\".format(Tjack))\n",
    "    print(\"Vjack = {}\".format(Vjack/n))\n",
    "    return(Tjack,Vjack/n)"
   ]
  },
  {
   "cell_type": "code",
   "execution_count": 77,
   "metadata": {},
   "outputs": [
    {
     "name": "stdout",
     "output_type": "stream",
     "text": [
      "Tjack = 2.733\n",
      "Vjack = 54.765529375\n"
     ]
    }
   ],
   "source": [
    "T, v = VarJack(X,T)"
   ]
  },
  {
   "cell_type": "code",
   "execution_count": 93,
   "metadata": {},
   "outputs": [
    {
     "data": {
      "text/plain": [
       "(array([135.,  64.,  45.,  27.,  14.,   7.,   3.,   3.,   1.,   1.]),\n",
       " array([8.00261132e-03, 1.28441043e+00, 2.56081824e+00, 3.83722606e+00,\n",
       "        5.11363387e+00, 6.39004169e+00, 7.66644950e+00, 8.94285732e+00,\n",
       "        1.02192651e+01, 1.14956729e+01, 1.27720808e+01]),\n",
       " <a list of 10 Patch objects>)"
      ]
     },
     "execution_count": 93,
     "metadata": {},
     "output_type": "execute_result"
    },
    {
     "data": {
      "image/png": "[encoded data removed]",
      "text/plain": [
       "<Figure size 432x288 with 1 Axes>"
      ]
     },
     "metadata": {},
     "output_type": "display_data"
    }
   ],
   "source": [
    "plt.hist(np.random.gamma(1,2,300))"
   ]
  }
 ],
 "metadata": {
  "kernelspec": {
   "display_name": "Python 2",
   "language": "python",
   "name": "python2"
  },
  "language_info": {
   "codemirror_mode": {
    "name": "ipython",
    "version": 2
   },
   "file_extension": ".py",
   "mimetype": "text/x-python",
   "name": "python",
   "nbconvert_exporter": "python",
   "pygments_lexer": "ipython2",
   "version": "2.7.15rc1"
  }
 },
 "nbformat": 4,
 "nbformat_minor": 2
}
